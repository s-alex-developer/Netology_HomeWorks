{
 "cells": [
  {
   "cell_type": "markdown",
   "id": "755a7b6a",
   "metadata": {},
   "source": [
    "# Сериализация и Десереализация."
   ]
  },
  {
   "cell_type": "markdown",
   "id": "279b6eb9",
   "metadata": {},
   "source": [
    "> `Сериализация` — процесс преобразования объекта в поток байтов для сохранения или передачи в память, базу данных или файл. Эта операция предназначена для того, чтобы сохранить состояния объекта для последующего воссоздания при необходимости. Обратный процесс называется десериализацией."
   ]
  },
  {
   "cell_type": "markdown",
   "id": "7289413b",
   "metadata": {},
   "source": [
    "# CSV файлы."
   ]
  },
  {
   "cell_type": "markdown",
   "id": "11742f70",
   "metadata": {},
   "source": [
    "### CSV - Сomma Separated Values ( пер. \"Значения разделенные запятыми\" )"
   ]
  },
  {
   "cell_type": "markdown",
   "id": "632cd83c",
   "metadata": {},
   "source": [
    "`CSV файлы`\n",
    "* распространенный формат файлов для представления табличных данных.\n",
    "* активно используются для передачи информации между различными источниками данных. Например мы можем прочитать данные из таблицы **Excel**, а затем обработать и передать в **БД** или отразить информацию на сайте.\n",
    "* Простой фармат не требует для работы специальных программ или сложных библиотек. "
   ]
  },
  {
   "cell_type": "markdown",
   "id": "9f9eb6d4",
   "metadata": {},
   "source": [
    "**Ниже рассмотрим основные моменты работы с файлами формата CSV:**\n",
    "\n",
    "Десериализация в список:\n",
    "\n",
    "* reader = csv.reader(file)\n",
    "* data = list(reader)\n",
    "    \n",
    "Десериализация в словарь:\n",
    "\n",
    "* reader = csv.DictReader(file)\n",
    "    \n",
    "Сериализация:\n",
    "\n",
    "* writer = csv.writer(file)\n",
    "* writer.writerows(data)\n",
    "* writer.writerow(data)\n",
    "    \n",
    "Настройки форматирования:\n",
    "\n",
    "* csv.register_dialect()"
   ]
  },
  {
   "cell_type": "markdown",
   "id": "f525038c",
   "metadata": {},
   "source": [
    "## Чтение данных из CSV файла в список. Функция reader()"
   ]
  },
  {
   "cell_type": "markdown",
   "id": "360f7313",
   "metadata": {},
   "source": [
    "> Функция `reader()` производит построчное чтение файла, что оптимально при работе с большими файлами поскольку не требует единовременной загрузки всех данных в оперативную память."
   ]
  },
  {
   "cell_type": "markdown",
   "id": "fb9a4eb1",
   "metadata": {},
   "source": [
    "Содержание файла `works.txt`:\n",
    "\n",
    "```\n",
    "Alex S,Developer,Python\n",
    "Oksana S,CG_Artist,Photoshop\n",
    "```"
   ]
  },
  {
   "cell_type": "markdown",
   "id": "e0ddfd61",
   "metadata": {},
   "source": [
    "Воспользуемся функцией `reader()` из библиотеки `csv`:"
   ]
  },
  {
   "cell_type": "markdown",
   "id": "951941b9",
   "metadata": {},
   "source": [
    "```python\n",
    "import csv\n",
    "\n",
    "with open('works.txt') as f:\n",
    "    works = csv.reader(f)\n",
    "    for work in works:\n",
    "        print(work)\n",
    "```"
   ]
  },
  {
   "cell_type": "markdown",
   "id": "61e72fa8",
   "metadata": {},
   "source": [
    "_В результате каждая строка будет представлена ввиде списка, а данные строки, разделенные запятыми, будут отдельными элементами этого списка:_\n",
    "```\n",
    "['Alex S', 'Developer', 'Python']\n",
    "['Oksana S', 'CG_Artist', 'Photoshop']\n",
    "```"
   ]
  },
  {
   "cell_type": "markdown",
   "id": "8efddc5e",
   "metadata": {},
   "source": [
    "### Разделитель строки и параметр delimiter"
   ]
  },
  {
   "cell_type": "markdown",
   "id": "f11eb216",
   "metadata": {},
   "source": [
    "> Деление данных строки на элементы списка происходит при помощи разделителя, по умолчанию принято использопять запятую \",\""
   ]
  },
  {
   "cell_type": "markdown",
   "id": "4f278e82",
   "metadata": {},
   "source": [
    "Используем в файле `works.txt` в качестве разделителя точку с запятой:\n",
    "\n",
    "```\n",
    "Alex S;Developer;Python\n",
    "Oksana S;CG_Artist;Photoshop\n",
    "```"
   ]
  },
  {
   "cell_type": "markdown",
   "id": "d8e8082f",
   "metadata": {},
   "source": [
    "**Запустим код:**\n",
    "\n",
    "```python\n",
    "import csv\n",
    "\n",
    "with open('works.txt') as f:\n",
    "    works = csv.reader(f)\n",
    "    for work in works:\n",
    "        print(work)\n",
    "```"
   ]
  },
  {
   "cell_type": "markdown",
   "id": "77a144e7",
   "metadata": {},
   "source": [
    "В результате каждая строка будет преобразована в список состоящий из одного элемента, что нам не подходит:\n",
    "```\n",
    "['Alex S;Developer;Python']\n",
    "['Oksana S;CG_Artist;Photoshop']\n",
    "```"
   ]
  },
  {
   "cell_type": "markdown",
   "id": "5b9b3eff",
   "metadata": {},
   "source": [
    "Используем параметр `delimiter` и укажем `точку с запятой` в качестве разделителя данных строки:\n",
    "\n",
    "Текущее содержание файла `works.txt`:\n",
    "```\n",
    "Alex S;Developer;Python\n",
    "Oksana S;CG_Artist;Photoshop\n",
    "```"
   ]
  },
  {
   "cell_type": "markdown",
   "id": "3bd7d712",
   "metadata": {},
   "source": [
    "**Запустим код:**\n",
    "\n",
    "```python\n",
    "import csv\n",
    "\n",
    "with open('works.txt') as f:\n",
    "    works = csv.reader(f, delimiter=';')\n",
    "    for work in works:\n",
    "        print(work)\n",
    "```"
   ]
  },
  {
   "cell_type": "markdown",
   "id": "c4e26fb5",
   "metadata": {},
   "source": [
    "_Получаем правильный вывод данных:_\n",
    "```\n",
    "['Alex S', 'Developer', 'Python']\n",
    "['Oksana S', 'CG_Artist', 'Photoshop']\n",
    "```"
   ]
  },
  {
   "cell_type": "markdown",
   "id": "3bf81601",
   "metadata": {},
   "source": [
    "###  Обрамление данных в двойные кавычки и параметр quotechar:"
   ]
  },
  {
   "cell_type": "markdown",
   "id": "7669e7d7",
   "metadata": {},
   "source": [
    ">По умлолчанию `Python` воспринимает данные обрамленные `в двойные кавычки` в файлах `CSV` как `единый объект`. Это может быть полезным для избежания конфликта и корректной обработки данных, когда символ разделителя, например запятая, так же пресутсвует в тексте, который мы обрабатываем."
   ]
  },
  {
   "cell_type": "markdown",
   "id": "d28abdca",
   "metadata": {},
   "source": [
    "Возьмем в двойные кавычки первую строку. Текущее содержание файла `works.txt`:\n",
    "```\n",
    "\"Alex S,Developer,Python\"\n",
    "Oksana S,CG_Artist,Photoshop\n",
    "```"
   ]
  },
  {
   "cell_type": "markdown",
   "id": "095bb12f",
   "metadata": {},
   "source": [
    "**Запустим код:**\n",
    "```python\n",
    "import csv\n",
    "\n",
    "with open('works.txt') as f:\n",
    "    works = csv.reader(f)\n",
    "    for work in works:\n",
    "        print(work)\n",
    "```"
   ]
  },
  {
   "cell_type": "markdown",
   "id": "fa75f993",
   "metadata": {},
   "source": [
    "*В результате первая строка файла будет преобразована в список из одного элемента, включаещего все данные строки:*\n",
    "```\n",
    "['Alex S,Developer,Python']\n",
    "['Oksana S', 'CG_Artist', 'Photoshop']\n",
    "```"
   ]
  },
  {
   "cell_type": "markdown",
   "id": "41ba92a0",
   "metadata": {},
   "source": [
    "Применим параметр `quotechar`, который позволяет нам установить символ указывающий на, то что данные строки, обрамленные в указанный, символ должны восприниматься как единый элемент:"
   ]
  },
  {
   "cell_type": "markdown",
   "id": "1eb4d32f",
   "metadata": {},
   "source": [
    "**Текущее содержание файла** `works.txt`:\n",
    "```\n",
    "\"Alex S,Developer,Python\"\n",
    "Oksana S,CG_Artist,Photoshop\n",
    "```"
   ]
  },
  {
   "cell_type": "markdown",
   "id": "26e5a128",
   "metadata": {},
   "source": [
    "**Выполним код:**\n",
    "```python\n",
    "import csv\n",
    "\n",
    "with open('works.txt') as f:\n",
    "    works = csv.reader(f, quotechar=\"'\")\n",
    "    for work in works:\n",
    "        print(work)\n",
    "```"
   ]
  },
  {
   "cell_type": "markdown",
   "id": "9d38ae20",
   "metadata": {},
   "source": [
    "*В результате* `Python` проигнорировал двойные кавычки, так как теперь они не являются символом объединяющим данные строки в единый объект по умолчанию, и разбил строку на отдельные элементы списка.\n",
    "\n",
    "```Следует отметить что двойные кавычки при этот остались на месте и стали частью элемента списка.```\n",
    "```\n",
    "['\"Alex S', 'Developer', 'Python\"']\n",
    "['Oksana S', 'CG_Artist', 'Photoshop']\n",
    "```"
   ]
  },
  {
   "cell_type": "markdown",
   "id": "2eebb6b8",
   "metadata": {},
   "source": [
    "### Чтение всего содержимого файла в список"
   ]
  },
  {
   "cell_type": "markdown",
   "id": "d583bcde",
   "metadata": {},
   "source": [
    ">Помимо построчного чтения файла, возможно сразу прочитать все его содержимое и представить данные ввиде списка. Такой способ может не подойти для работы с большими объемами файлов, так как объема ОЗУ может не хватить для хранения всех данных."
   ]
  },
  {
   "cell_type": "markdown",
   "id": "e0d05cb8",
   "metadata": {},
   "source": [
    "**Текущее содержание файла** `works.txt`:\n",
    "```\n",
    "name,prof,tool\n",
    "Alex S,Developer,Python\n",
    "Oksana S,CG_Artist,Photoshop\n",
    "```"
   ]
  },
  {
   "cell_type": "markdown",
   "id": "931cd1a6",
   "metadata": {},
   "source": [
    "**Выполним код:**\n",
    "```python\n",
    "import csv\n",
    "\n",
    "with open('works.txt') as open_file:\n",
    "    work_file = csv.reader(open_file)\n",
    "    work_list = list(work_file)\n",
    "    \n",
    "    #Сравним два выода:\n",
    "    print(work_file)\n",
    "    print(work_list)\n",
    "```"
   ]
  },
  {
   "cell_type": "markdown",
   "id": "df4f2392",
   "metadata": {},
   "source": [
    "_Результаты вывода на экран:_\n",
    "```\n",
    "<_csv.reader object at 0x0000026A6AB76CE0>\n",
    "\n",
    "[['name', 'prof', 'tool'], ['Alex S', 'Developer', 'Python'], ['Oksana S', 'CG_Artist', 'Photoshop']]\n",
    "```"
   ]
  },
  {
   "cell_type": "markdown",
   "id": "43bf04f9",
   "metadata": {},
   "source": [
    "## Чтение данных из CSV файла в словарь. Функция DictReader()"
   ]
  },
  {
   "cell_type": "markdown",
   "id": "1bec6bef",
   "metadata": {},
   "source": [
    "> Для чтения данных из `CSV` файла в `словарь` нам `необходимо` в первою строку файла `добавить ключи` для будущего словаря:"
   ]
  },
  {
   "cell_type": "markdown",
   "id": "b40294bd",
   "metadata": {},
   "source": [
    "**Текущее содержание файла после добавления ключей** `works.txt`:\n",
    "```\n",
    "name,prof,tool\n",
    "Alex S,Developer,Python\n",
    "Oksana S,CG_Artist,Photoshop\n",
    "```"
   ]
  },
  {
   "cell_type": "markdown",
   "id": "8fb73134",
   "metadata": {},
   "source": [
    "**Выполним код**:\n",
    "```python\n",
    "import csv\n",
    "\n",
    "with open('works.txt') as f:\n",
    "    works = csv.DictReader(f)\n",
    "    for work in works:\n",
    "        print(work)\n",
    "```"
   ]
  },
  {
   "cell_type": "markdown",
   "id": "b95b7a60",
   "metadata": {},
   "source": [
    "_В результате получаем `словарь` с указанными ключами:_\n",
    "```\n",
    "{'name': 'Alex S', 'prof': 'Developer', 'tool': 'Python'}\n",
    "{'name': 'Oksana S', 'prof': 'CG_Artist', 'tool': 'Photoshop'}\n",
    "```"
   ]
  },
  {
   "cell_type": "markdown",
   "id": "1d56d4ff",
   "metadata": {},
   "source": [
    "## Запись в CSV файл из списка. Функция writer() "
   ]
  },
  {
   "cell_type": "markdown",
   "id": "9bba7f4d",
   "metadata": {},
   "source": [
    "### csv.register_dialect() - настройки форматирования записи:"
   ]
  },
  {
   "cell_type": "markdown",
   "id": "60ed7693",
   "metadata": {},
   "source": [
    "Настройки форматирования можно производить через создание шаблона `csv.register_dialect()` или передав в функцию `reader()` напрямую:\n",
    "* **delimiter=\"\"** - позволяет установить разделитель, по умолчанию запятая.\n",
    "* **quotechar=\"\"** - позволяет задать символ обрамления данных, по умолчанию двойные кавычки.\n",
    "* **quoting=**\n",
    "    * `quoting=csv.QUOTE_MINIMAL` - минимальное использование кавычек, только там где необходимо. (по умалчанию)\n",
    "    * `quoting=csv.QUOTE_ALL` - все объекты данных обрамляются кавычками.\n",
    "    * `quoting=csv.QUOTE_NONNUMERIC` - запрещает использование кавычек для обособления данных.\n",
    "    * `quoting=csv.QUOTE_NONE` - кавычки запрещены.\n",
    "* `escapechar=\"\\\\\"` - Данный параметр актуален, если мы зарпещаем использование кавычек через `quoting.csv.QUOTQ_NONE`. Проблемные символы принято прятать за обратным слешем, поскольку это служебный символ, его необходимо экранировать, поэтому обратных слешей будет два. "
   ]
  },
  {
   "cell_type": "markdown",
   "id": "a395282d",
   "metadata": {},
   "source": [
    "### writer() writerow() writerows()"
   ]
  },
  {
   "cell_type": "markdown",
   "id": "d2c60493",
   "metadata": {},
   "source": [
    ">Функция `writer()` так же может тиспользовать дополнительные параметры `delimiter=` и `quotechar=`"
   ]
  },
  {
   "cell_type": "markdown",
   "id": "4377acc3",
   "metadata": {},
   "source": [
    "> Функция `writerow()` производит запись списка в файл в виде одно строки, где элементы списка разделены разделителем."
   ]
  },
  {
   "cell_type": "markdown",
   "id": "741ce56a",
   "metadata": {},
   "source": [
    "> Функция `writerows()` производит построчную запись в файл данных списка, елементами которого являются другие списки, каждый список записывается отдельно строкой, а элементы вложенных списков разделены разделителем."
   ]
  },
  {
   "cell_type": "markdown",
   "id": "5a2f2c47",
   "metadata": {},
   "source": [
    "**Выполним код:**\n",
    "```python\n",
    "import csv\n",
    "\n",
    "with open('new.txt', 'w') as open_file:\n",
    "    work_file = csv.writer(open_file)\n",
    "    work_file.writerow(['Alex S', 'Developer', 'Python'])\n",
    "    work_file.writerow(['Oksana S', 'CG_Artist', 'Photoshop'])\n",
    "```"
   ]
  },
  {
   "cell_type": "markdown",
   "id": "b49196aa",
   "metadata": {},
   "source": [
    "*В результате будет создан файл `new.txt` и произойдет запись данных:*\n",
    "```    \n",
    "Alex S,Developer,Python\n",
    "\n",
    "Oksana S,CG_Artist,Photoshop\n",
    "```"
   ]
  },
  {
   "cell_type": "markdown",
   "id": "27741fce",
   "metadata": {},
   "source": [
    "> Обращаем внимание что функция `writerow()` всегда будет добавлять пустую строку между записываемыми строками наших данных. Чтобы этого избежать воспользуемся дополнительным параметром `newline=` в функции `writer()`"
   ]
  },
  {
   "cell_type": "markdown",
   "id": "d73d85fc",
   "metadata": {},
   "source": [
    "**Выполним код:**\n",
    "```python\n",
    "import csv\n",
    "\n",
    "with open('new.txt', 'w', newline='') as open_file:\n",
    "    work_file = csv.writer(open_file)\n",
    "    work_file.writerow(['Alex S', 'Developer', 'Python'])\n",
    "    work_file.writerow(['Oksana S', 'CG_Artist', 'Photoshop'])\n",
    "```"
   ]
  },
  {
   "cell_type": "markdown",
   "id": "d6385c0f",
   "metadata": {},
   "source": [
    "Получим результат в файле `new.txt`:\n",
    "```\n",
    "Alex S,Developer,Python\n",
    "Oksana S,CG_Artist,Photoshop\n",
    "```"
   ]
  },
  {
   "cell_type": "markdown",
   "id": "1d98d66f",
   "metadata": {},
   "source": [
    "## Примеры:"
   ]
  },
  {
   "cell_type": "markdown",
   "id": "12d380b9",
   "metadata": {},
   "source": [
    "### - Примеры. Блок 1. (Чтение файла и запись его данных в новый файл.)"
   ]
  },
  {
   "cell_type": "markdown",
   "id": "5d4599dd",
   "metadata": {},
   "source": [
    "**Исходный файл `reader.txt`:**\n",
    "```\n",
    "Заголовок,первая строка\n",
    "Вторая строка,текст,цифры\n",
    "Третья строка,текст,цифры\n",
    "Четвертая строка,текст,цифры\n",
    "Пятая строка,текст,цифры\n",
    "Последняя строка,не выводится\n",
    "```"
   ]
  },
  {
   "cell_type": "markdown",
   "id": "75285993",
   "metadata": {},
   "source": [
    "**Выполним код:**\n",
    "```python\n",
    "import csv\n",
    "from pprint import pprint\n",
    "\n",
    "with open('reader.txt') as open_file:\n",
    "    read_file = csv.reader(open_file)\n",
    "    for row in read_file:\n",
    "        print(row)\n",
    "\n",
    "# Открытие и чтение файла в список:\n",
    "    # Возвращаем курсор в начало файла при помощи seek() для повторного прочтения:\n",
    "    open_file.seek(0)\n",
    "    read_file = csv.reader(open_file)\n",
    "    \n",
    "    # Представляем данные файла в виде списка списков:\n",
    "    work_list = list(read_file)\n",
    "    pprint(work_list)\n",
    "    \n",
    "    # Помещаем Заголовок в переменную:\n",
    "    title = work_list[0]\n",
    "\n",
    "# Открываем новый файл для записи данных:\n",
    "with open('writer.txt', 'w', newline='') as new_file:\n",
    "    write_file = csv.writer(new_file)\n",
    "    \n",
    "    # Произведем запись в файл используя функции:\n",
    "    write_file.writerow(title)\n",
    "    write_file.writerows(work_list[1:5])\n",
    "```"
   ]
  },
  {
   "cell_type": "markdown",
   "id": "40afb054",
   "metadata": {},
   "source": [
    "*Результат записи в файл `writer.txt`:*\n",
    "```\n",
    "Заголовок,первая строка\n",
    "Вторая строка,текст,цифры\n",
    "Третья строка,текст,цифры\n",
    "Четвертая строка,текст,цифры\n",
    "Пятая строка,текст,цифры\n",
    "```"
   ]
  },
  {
   "cell_type": "markdown",
   "id": "fcf408fe",
   "metadata": {},
   "source": [
    "### - Примеры. Блок 2. (Чтение файла с дополнительными параметрами.)"
   ]
  },
  {
   "cell_type": "markdown",
   "id": "5fe46d38",
   "metadata": {},
   "source": [
    "**Исходный файл `reader.txt`:**\n",
    "```\n",
    "Заголовок;первая строка\n",
    "Вторая строка;\"текст;цифры\"\n",
    "'Третья строка;текст;цифры'\n",
    "\n",
    "```"
   ]
  },
  {
   "cell_type": "markdown",
   "id": "04b4e5a1",
   "metadata": {},
   "source": [
    "**Выполним код с параметрами `reader()` по умолчанию:**\n",
    "```python\n",
    "import csv\n",
    "\n",
    "with open('reader.txt') as open_file:\n",
    "    read_file = csv.reader(open_file)\n",
    "    for row in read_file:\n",
    "        print(row)\n",
    "```"
   ]
  },
  {
   "cell_type": "markdown",
   "id": "505eed04",
   "metadata": {},
   "source": [
    "*Получим результат:* \n",
    "```\n",
    "['Заголовок;первая строка']\n",
    "['Вторая строка;\"текст;цифры\"']\n",
    "[\"'Третья строка;текст;цифры'\"]\n",
    "```\n",
    "- *Все строки преобразованы в единый элемент списка, так как в файле в качестве разделителя была указана точка с запятой, а параметр по умолчанию запятая, разделения строки на отдельные элементы списка не произошло.*\n",
    "- *Во второй строке присутсвовали двойные кавычки, но поскольку разделения строки на элементы списка не произошло, Python эту ситуацию никак не обработал, так как в этой ситуации двойные кавычки восприняты как символ входящий в объект.*\n",
    "- *Третья строка содержит одинарные кавычки, поэтому при преобразовании строки в элемент списка Python пришлось применить двойные кавычки для выделение элемента списка.*"
   ]
  },
  {
   "cell_type": "markdown",
   "id": "211c2ea1",
   "metadata": {},
   "source": [
    "### пример использования `delimiter=`"
   ]
  },
  {
   "cell_type": "markdown",
   "id": "c58363cd",
   "metadata": {},
   "source": [
    "**Исходный файл `reader.txt` без имзменений:**\n",
    "```\n",
    "Заголовок;первая строка\n",
    "Вторая строка;\"текст;цифры\"\n",
    "'Третья строка;текст;цифры'\n",
    "```"
   ]
  },
  {
   "cell_type": "markdown",
   "id": "68b37be8",
   "metadata": {},
   "source": [
    "**Выполним код c дополнительным параметром `delimiter=` для функции `reader()`:**\n",
    "```python\n",
    "import csv\n",
    "\n",
    "with open('reader.txt') as open_file:\n",
    "    # Укажем в качестве разделителя точку с запятой, вместо запятой по умолчанию.\n",
    "    read_file = csv.reader(open_file, delimiter=';') \n",
    "    for row in read_file:\n",
    "        print(row)\n",
    "```"
   ]
  },
  {
   "cell_type": "markdown",
   "id": "f058632e",
   "metadata": {},
   "source": [
    "*Получим результат:* \n",
    "```\n",
    "['Заголовок', 'первая строка']\n",
    "['Вторая строка', 'текст;цифры']\n",
    "[\"'Третья строка\", 'текст', \"цифры'\"]\n",
    "```\n",
    "- *Строки разделены на отдельные элементы списка.*\n",
    "- *Так же Python отработал двойные кавычки во второй строке и по умолчанию выделил их содержимое в отдельный элемент списка, проигнорировав разделитель в виде двойных кавычек.*\n",
    "- *Одинарные кавычки в третье строке в данной интерпретации являются символом входящим в состав отдельных элементов списка.*"
   ]
  },
  {
   "cell_type": "markdown",
   "id": "ae2f9d83",
   "metadata": {},
   "source": [
    "### пример использования `quotechar=`"
   ]
  },
  {
   "cell_type": "markdown",
   "id": "3c20cd4c",
   "metadata": {},
   "source": [
    "**Исходный файл `reader.txt` без имзменений:**\n",
    "```\n",
    "Заголовок;первая строка\n",
    "Вторая строка;\"текст;цифры\"\n",
    "'Третья строка;текст;цифры'\n",
    "```"
   ]
  },
  {
   "cell_type": "markdown",
   "id": "fb93c94a",
   "metadata": {},
   "source": [
    "**Введем еще один дополнительный параметр `quotechar=` для функции `reader()`:**\n",
    "```python\n",
    "import csv\n",
    "\n",
    "with open('reader.txt') as open_file:\n",
    "    # Укажем в качестве символа обособления одинарные кавычки, вместо двойных по умолчанию.\n",
    "    read_file = csv.reader(open_file, delimiter=';', quotechar=\"'\") \n",
    "    for row in read_file:\n",
    "        print(row)\n",
    "```"
   ]
  },
  {
   "cell_type": "markdown",
   "id": "df744aff",
   "metadata": {},
   "source": [
    "_Получим результат:_\n",
    "```\n",
    "['Заголовок', 'первая строка']\n",
    "['Вторая строка', '\"текст', 'цифры\"']\n",
    "['Третья строка;текст;цифры']\n",
    "```"
   ]
  },
  {
   "cell_type": "markdown",
   "id": "95b642f8",
   "metadata": {},
   "source": [
    "- *На этот раз обособление в единый элемент списка произолшо с учетом одинарных кавычек в третьей строке.*\n",
    "- *Вторая строка разбилась на отдельные элементы списка, а двойные кавычки теперь являются частью этих элементов.*"
   ]
  },
  {
   "cell_type": "markdown",
   "id": "f61129ed",
   "metadata": {},
   "source": [
    "### пример использования `quoting=`"
   ]
  },
  {
   "cell_type": "markdown",
   "id": "33c3f571",
   "metadata": {},
   "source": [
    "**Исходный файл `reader.txt` без имзменений:**\n",
    "```\n",
    "Заголовок;первая строка\n",
    "Вторая строка;\"текст;цифры\"\n",
    "'Третья строка;текст;цифры'\n",
    "```"
   ]
  },
  {
   "cell_type": "markdown",
   "id": "50654e7c",
   "metadata": {},
   "source": [
    "**Введем дополнительный параметр `quoting=` для функции `reader()`:**\n",
    "\n",
    "```python\n",
    "import csv\n",
    "\n",
    "with open('reader.txt') as open_file:\n",
    "    # Установим параметр quoting=csv.QUOTE_NONE и запретим использование кавычек для обособления элементов.\n",
    "    read_file = csv.reader(open_file, delimiter=';', quoting=csv.QUOTE_NONE)\n",
    "    for row in read_file:\n",
    "        print(row)\n",
    "```"
   ]
  },
  {
   "cell_type": "markdown",
   "id": "4945fb5b",
   "metadata": {},
   "source": [
    "_Получим результат_:\n",
    "```\n",
    "['Заголовок', 'первая строка']\n",
    "['Вторая строка', '\"текст', 'цифры\"']\n",
    "[\"'Третья строка\", 'текст', \"цифры'\"]\n",
    "```\n",
    "- *В данном примере отработал только разделитель, все кавычки проигнорированны.*"
   ]
  },
  {
   "cell_type": "markdown",
   "id": "8d0cd791",
   "metadata": {},
   "source": [
    "### - Примеры. Блок 3. (Запись в  файл с дополнительными параметрами.)"
   ]
  },
  {
   "cell_type": "markdown",
   "id": "0ff83d0e",
   "metadata": {},
   "source": [
    "### пример использования `newline=`"
   ]
  },
  {
   "cell_type": "markdown",
   "id": "e473c356",
   "metadata": {},
   "source": [
    "> `newline=` - параметр позволяет убрать пустые строки, когда мы записываем данные в файл."
   ]
  },
  {
   "cell_type": "markdown",
   "id": "9ccc9f04",
   "metadata": {},
   "source": [
    "**Рассмотрим два способа записи данных в файл:**"
   ]
  },
  {
   "cell_type": "markdown",
   "id": "75486239",
   "metadata": {},
   "source": [
    "Вариант 1. \n",
    "* Используем вложенную конструкцию with. \n",
    "* Открываем два файла (для четиния и для записи). \n",
    "* Читаем данные из первого файла построчно и сразу записываем во второй файл. "
   ]
  },
  {
   "cell_type": "markdown",
   "id": "0054dae0",
   "metadata": {},
   "source": [
    "**Исходный файл `reader.txt`**\n",
    "```\n",
    "Заголовок,первая строка\n",
    "Вторая строка,текст,цифры\n",
    "Третья строка,\"единые,данные\"\n",
    "```"
   ]
  },
  {
   "cell_type": "markdown",
   "id": "d4614610",
   "metadata": {},
   "source": [
    "**Выполним код:**\n",
    "```python\n",
    "import csv\n",
    "\n",
    "with open('reader.txt') as open_file:\n",
    "    read_file = csv.reader(open_file)\n",
    "    with open('writer.txt', 'w', newline='') as new_file:\n",
    "        write_file = csv.writer(new_file)\n",
    "        for row in read_file:\n",
    "            write_file.writerow(row)\n",
    "```"
   ]
  },
  {
   "cell_type": "markdown",
   "id": "1dd6ca90",
   "metadata": {},
   "source": [
    "_Получим результат в файле `writer.txt`_:\n",
    "```\n",
    "Заголовок,первая строка\n",
    "Вторая строка,текст,цифры\n",
    "Третья строка,\"единые,данные\"\n",
    "```"
   ]
  },
  {
   "cell_type": "markdown",
   "id": "a95b50bd",
   "metadata": {},
   "source": [
    "Вариант 2.\n",
    "* Используем два блока with\n",
    "* Прочитаем файл в список\n",
    "* Запишем данные из списка в новый файл."
   ]
  },
  {
   "cell_type": "markdown",
   "id": "c39eb138",
   "metadata": {},
   "source": [
    "**Исходный файл `reader.txt`**\n",
    "```\n",
    "Заголовок,первая строка\n",
    "Вторая строка,текст,цифры\n",
    "Третья строка,\"единые,данные\"\n",
    "```"
   ]
  },
  {
   "cell_type": "markdown",
   "id": "4fcd7135",
   "metadata": {},
   "source": [
    "**Выполним код:**\n",
    "```python\n",
    "import csv\n",
    "\n",
    "with open('reader.txt') as open_file:\n",
    "    read_file = csv.reader(open_file)\n",
    "    read_data = list(read_file)\n",
    "    first_str = read_data[0]\n",
    "    other_str = read_data[1:]\n",
    "\n",
    "with open('writer.txt', 'w', newline='') as new_file:\n",
    "    write_file = csv.writer(new_file)\n",
    "    write_file.writerow(first_str)\n",
    "    write_file.writerows(other_str)\n",
    "```"
   ]
  },
  {
   "cell_type": "markdown",
   "id": "fb71893b",
   "metadata": {},
   "source": [
    "_Получим аналогичный \"Варианту 1\" результат в файле `writer.txt`_:\n",
    "```\n",
    "Заголовок,первая строка\n",
    "Вторая строка,текст,цифры\n",
    "Третья строка,\"единые,данные\"\n",
    "```"
   ]
  },
  {
   "cell_type": "markdown",
   "id": "b9f17808",
   "metadata": {},
   "source": [
    "### пример использования `delimiter=`"
   ]
  },
  {
   "cell_type": "markdown",
   "id": "504e75b4",
   "metadata": {},
   "source": [
    "**Исходный файл `reader.txt`**\n",
    "```\n",
    "Заголовок,первая строка\n",
    "Вторая строка,текст,цифры\n",
    "Третья строка,\"единые,данные\"\n",
    "```"
   ]
  },
  {
   "cell_type": "markdown",
   "id": "10d908a1",
   "metadata": {},
   "source": [
    "**Выполним код:**\n",
    "```python\n",
    "import csv\n",
    "\n",
    "with open('reader.txt') as open_file:\n",
    "    read_file = csv.reader(open_file)\n",
    "    with open('writer.txt', 'w', newline='') as new_file:\n",
    "        write_file = csv.writer(new_file, delimiter=';')\n",
    "        for row in read_file:\n",
    "            write_file.writerow(row)\n",
    "```"
   ]
  },
  {
   "cell_type": "markdown",
   "id": "12d6f2b4",
   "metadata": {},
   "source": [
    "_Получим результат в файле `writer.txt`_:\n",
    "```\n",
    "Заголовок;первая строка\n",
    "Вторая строка;текст;цифры\n",
    "Третья строка;единые,данные\n",
    "```\n",
    "\n",
    "* Разделитель изменен с запятой (по умолчанию) на точку с запятой.\n",
    "* Во время записи данных в файл Python убрал кавычки, так как конфликта между запятой -разделителем и запятой как части данных нет."
   ]
  },
  {
   "cell_type": "markdown",
   "id": "60e7bd10",
   "metadata": {},
   "source": [
    "### пример использования `quotechar=`"
   ]
  },
  {
   "cell_type": "markdown",
   "id": "4b3d9b66",
   "metadata": {},
   "source": [
    "**Исходный файл `reader.txt`**\n",
    "```\n",
    "Заголовок,первая строка\n",
    "Вторая строка,текст,цифры\n",
    "Третья строка,\"единые,данные\"\n",
    "```"
   ]
  },
  {
   "cell_type": "markdown",
   "id": "1d0ccb41",
   "metadata": {},
   "source": [
    "**Выполним код:**\n",
    "```python\n",
    "import csv\n",
    "\n",
    "with open('reader.txt') as open_file:\n",
    "    read_file = csv.reader(open_file)\n",
    "    with open('writer.txt', 'w', newline='') as new_file:\n",
    "        write_file = csv.writer(new_file, quotechar='*')\n",
    "        for row in read_file:\n",
    "            write_file.writerow(row)\n",
    "```"
   ]
  },
  {
   "cell_type": "markdown",
   "id": "5828d17c",
   "metadata": {},
   "source": [
    "_Получим результат в файле `writer.txt`_:\n",
    "```\n",
    "Заголовок,первая строка\n",
    "Вторая строка,текст,цифры\n",
    "Третья строка,*единые,данные*\n",
    "```\n",
    "\n",
    "* Заменили двойные кавычки (символ по умолчанию для выделения данных в единый элемент) на символ звездочки *. "
   ]
  },
  {
   "cell_type": "markdown",
   "id": "eee9fbc9",
   "metadata": {},
   "source": [
    "### пример использования `quoting=csv.QUOTE_NONE`, `escapechar='\\\\'`"
   ]
  },
  {
   "cell_type": "markdown",
   "id": "e650a937",
   "metadata": {},
   "source": [
    "**Исходный файл `reader.txt`**\n",
    "```\n",
    "Заголовок,первая строка\n",
    "Вторая строка,текст,цифры\n",
    "Третья строка,\"единые,данные\"\n",
    "```"
   ]
  },
  {
   "cell_type": "markdown",
   "id": "0b952eed",
   "metadata": {},
   "source": [
    "**Выполним код:**\n",
    "```python\n",
    "import csv\n",
    "\n",
    "with open('reader.txt') as open_file:\n",
    "    read_file = csv.reader(open_file)\n",
    "    with open('writer.txt', 'w', newline='') as new_file:\n",
    "        write_file = csv.writer(new_file, quoting=csv.QUOTE_NONE, escapechar='\\\\')\n",
    "        for row in read_file:\n",
    "            write_file.writerow(row)\n",
    "```"
   ]
  },
  {
   "cell_type": "markdown",
   "id": "99c9bf22",
   "metadata": {},
   "source": [
    "_Получим результат в файле `writer.txt`_:\n",
    "```\n",
    "Заголовок,первая строка\n",
    "Вторая строка,текст,цифры\n",
    "Третья строка,единые\\,данные\n",
    "```\n",
    "* Запретили использование кавычке параметром **uoting=csv.QUOTE_NONE**\n",
    "* Выполнили экранирование проблемного символа при помощи **escapechar='\\\\'** (в нашем случае запятой, которая не является разделителем, а является элементом строки данных)."
   ]
  },
  {
   "cell_type": "markdown",
   "id": "c576c1c1",
   "metadata": {},
   "source": [
    "### пример использования `csv.register_dialect()`"
   ]
  },
  {
   "cell_type": "markdown",
   "id": "41b9fc43",
   "metadata": {},
   "source": [
    "Повторим все действия с данными из примера выше, только при помощи шаблона настроек записи в файл `csv.register_dialect()`"
   ]
  },
  {
   "cell_type": "markdown",
   "id": "7c015ffd",
   "metadata": {},
   "source": [
    "**Исходный файл `reader.txt`**\n",
    "```\n",
    "Заголовок,первая строка\n",
    "Вторая строка,текст,цифры\n",
    "Третья строка,\"единые,данные\"\n",
    "```"
   ]
  },
  {
   "cell_type": "markdown",
   "id": "0450eff7",
   "metadata": {},
   "source": [
    "**Немного изменим и выполним код:**\n",
    "```python\n",
    "import csv\n",
    "\n",
    "csv.register_dialect('custom', quoting=csv.QUOTE_NONE, escapechar='\\\\') #создаем шаблон настроек и присваиваем ему имя.\n",
    "\n",
    "with open('reader.txt') as open_file:\n",
    "    read_file = csv.reader(open_file)\n",
    "    with open('writer.txt', 'w', newline='') as new_file:\n",
    "        write_file = csv.writer(new_file, 'custom') #укащываем шаблон с настройками, которые хотим применить при записи.\n",
    "        for row in read_file:\n",
    "            write_file.writerow(row)\n",
    "```"
   ]
  },
  {
   "cell_type": "markdown",
   "id": "a91da5f7",
   "metadata": {},
   "source": [
    "_Получим такой же рузультат результат как и в прошлом примере в файле `writer.txt`_:\n",
    "```\n",
    "Заголовок,первая строка\n",
    "Вторая строка,текст,цифры\n",
    "Третья строка,единые\\,данные\n",
    "```\n",
    "* Данных подход позволяет заранее подготавливать шаблоны с разными настройками, что значительно ускоряет работу с файлами."
   ]
  }
 ],
 "metadata": {
  "kernelspec": {
   "display_name": "Python 3 (ipykernel)",
   "language": "python",
   "name": "python3"
  },
  "language_info": {
   "codemirror_mode": {
    "name": "ipython",
    "version": 3
   },
   "file_extension": ".py",
   "mimetype": "text/x-python",
   "name": "python",
   "nbconvert_exporter": "python",
   "pygments_lexer": "ipython3",
   "version": "3.9.13"
  }
 },
 "nbformat": 4,
 "nbformat_minor": 5
}
