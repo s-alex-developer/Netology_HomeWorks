{
 "cells": [
  {
   "cell_type": "markdown",
   "id": "c2e963c8",
   "metadata": {},
   "source": [
    "# Домашнее задание к лекции 8. "
   ]
  },
  {
   "cell_type": "markdown",
   "id": "c798e8d8",
   "metadata": {},
   "source": [
    "## `«Работа с библиотекой requests, http-запросы»`"
   ]
  },
  {
   "cell_type": "markdown",
   "id": "7843c843",
   "metadata": {},
   "source": [
    "## Задача №1"
   ]
  },
  {
   "cell_type": "markdown",
   "id": "023455df",
   "metadata": {},
   "source": [
    "### Кто самый умный супергерой?\n",
    "* Есть `API` по информации о супергероях с информацией по всем супергероям. \n",
    "* Нужно определить кто самый умный(intelligence) из трех супергероев- `Hulk`, `Captain America`, `Thanos`."
   ]
  },
  {
   "cell_type": "code",
   "execution_count": 1,
   "id": "7ad7e413",
   "metadata": {},
   "outputs": [
    {
     "name": "stdout",
     "output_type": "stream",
     "text": [
      "Thanos\n"
     ]
    }
   ],
   "source": [
    "import requests\n",
    "\n",
    "URL = 'https://akabab.github.io/superhero-api/api'\n",
    "\n",
    "response = requests.get(f'{URL}/all.json')\n",
    "\n",
    "my_heroes = ['Hulk', 'Captain America', 'Thanos']\n",
    "most_clever_hero = {}\n",
    "\n",
    "for hero in response.json():\n",
    "    if hero['name'] in my_heroes:\n",
    "        most_clever_hero[hero['name']] = hero['powerstats']['intelligence']\n",
    "\n",
    "print(sorted(most_clever_hero)[-1])"
   ]
  },
  {
   "cell_type": "markdown",
   "id": "998da345",
   "metadata": {},
   "source": [
    "## Задача №2"
   ]
  },
  {
   "cell_type": "markdown",
   "id": "3dc0f80a",
   "metadata": {},
   "source": [
    "У **Яндекс.Диска** есть очень удобное и простое `API`. Для описания всех его методов существует `Полигон`. Нужно написать программу, которая принимает на вход путь до файла на компьютере и сохраняет на **Яндекс.Диск** с таким же именем."
   ]
  },
  {
   "cell_type": "markdown",
   "id": "7cd23f24",
   "metadata": {},
   "source": [
    "* Все ответы приходят в формате `json`;\n",
    "* Загрузка файла по ссылке происходит с помощью метода put и передачи туда данных;\n",
    "* Токен можно получить кликнув на полигоне на кнопку \"Получить OAuth-токен\".\n",
    "\n",
    "HOST: https://cloud-api.yandex.net:443\n",
    "\n",
    "**Важно**: Токен публиковать в github не нужно, переменную для токена нужно оставить пустой!\n",
    "\n",
    "Шаблон для программы\n",
    "```python\n",
    "\n",
    "```"
   ]
  },
  {
   "cell_type": "code",
   "execution_count": 5,
   "id": "bfd464fa",
   "metadata": {},
   "outputs": [
    {
     "name": "stdout",
     "output_type": "stream",
     "text": [
      "Файл успешно загружен на Яндекс диск.\n"
     ]
    }
   ],
   "source": [
    "import requests\n",
    "\n",
    "class YandexDisc:\n",
    "\n",
    "    def __init__(self, token):\n",
    "        self.token = token\n",
    "        self.yandex_URL = 'https://cloud-api.yandex.net'\n",
    "        \n",
    "\n",
    "    # Функция формирует обязательные заголовки параметра headers\n",
    "    # Данные заголовки обязательны для работы с запросами к REST API Яндекс диска.\n",
    "    def get_headers(self):\n",
    "        return {\n",
    "                'Content-Type': 'application/json',\n",
    "                'Authorization': f'OAuth {self.token}'\n",
    "                }\n",
    "    \n",
    "    \n",
    "    # Получить ссылку на загрузку файла на Яндекс диск:\n",
    "    def get_upload_link(self, _download_path):\n",
    "\n",
    "        _request_URL = f'{self.yandex_URL}/v1/disk/resources/upload'\n",
    "        \n",
    "        # 'overwrite': 'true' - параметр перезапишет файл если он уже есть на Яндекс диске.\n",
    "        _params = {'path': _download_path, 'overwrite': 'true'}\n",
    "        _headers = self.get_headers()\n",
    "\n",
    "        _response = requests.get(_request_URL, headers=_headers, params=_params)\n",
    "        \n",
    "        return _response.json()['href']\n",
    "    \n",
    "    \n",
    "    # Функция загрузки файла с диска компьютера на Яндекс Диск.\n",
    "    def upload_file(self, _download_path, _file_path):\n",
    "        \n",
    "        # Формируем ссылку для загрузки файла:\n",
    "        href = self.get_upload_link(_download_path)\n",
    "\n",
    "        _response = requests.put(href, open(_file_path, 'rb'))\n",
    "        \n",
    "        if _response.status_code == 201:\n",
    "            print('Файл успешно загружен на Яндекс диск.')\n",
    "\n",
    "if __name__ == '__main__':\n",
    "    Token = ''\n",
    "    my_requests = YandexDisc(Token)\n",
    "\n",
    "    download_path = '' #Путь загрузки и имя файла на Яндекс диске.\n",
    "    file_path = r'' # Путь к файлу на компьютере, который будет загружен на Яндекс диск.\n",
    "\n",
    "    my_requests.upload_file(download_path, file_path)"
   ]
  },
  {
   "cell_type": "code",
   "execution_count": null,
   "id": "864ea6b1",
   "metadata": {},
   "outputs": [],
   "source": []
  }
 ],
 "metadata": {
  "kernelspec": {
   "display_name": "Python 3 (ipykernel)",
   "language": "python",
   "name": "python3"
  },
  "language_info": {
   "codemirror_mode": {
    "name": "ipython",
    "version": 3
   },
   "file_extension": ".py",
   "mimetype": "text/x-python",
   "name": "python",
   "nbconvert_exporter": "python",
   "pygments_lexer": "ipython3",
   "version": "3.9.13"
  }
 },
 "nbformat": 4,
 "nbformat_minor": 5
}
